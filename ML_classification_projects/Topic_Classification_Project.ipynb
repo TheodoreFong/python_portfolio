{
 "cells": [
  {
   "cell_type": "markdown",
   "metadata": {},
   "source": [
    "# Project: Topic Classification"
   ]
  },
  {
   "cell_type": "markdown",
   "metadata": {},
   "source": [
    "In this project, I work with text data from newsgroup postings on a variety of topics. I'll train classifiers to distinguish between the topics based on the text of the posts. Whereas with digit classification, the input is relatively dense: a 28x28 matrix of pixels, many of which are non-zero, here we'll represent each document with a \"bag-of-words\" model. This makes the feature representation quite sparse -- only a few words of the total vocabulary are active in any given document. The bag-of-words assumption here is that the label depends only on the words; their order is not important."
   ]
  },
  {
   "cell_type": "code",
   "execution_count": 1,
   "metadata": {},
   "outputs": [],
   "source": [
    "# This tells matplotlib not to try opening a new window for each plot.\n",
    "%matplotlib inline\n",
    "\n",
    "# General libraries.\n",
    "import re\n",
    "import numpy as np\n",
    "import matplotlib.pyplot as plt\n",
    "\n",
    "# SK-learn libraries for learning.\n",
    "from sklearn.pipeline import Pipeline\n",
    "from sklearn.neighbors import KNeighborsClassifier\n",
    "from sklearn.linear_model import LogisticRegression\n",
    "from sklearn.naive_bayes import BernoulliNB\n",
    "from sklearn.naive_bayes import MultinomialNB\\\n",
    "from sklearn.model_selection import GridSearchCV\n",
    "\n",
    "# SK-learn libraries for evaluation.\n",
    "from sklearn.metrics import confusion_matrix\n",
    "from sklearn import metrics\n",
    "from sklearn.metrics import classification_report\n",
    "\n",
    "# SK-learn library for importing the newsgroup data.\n",
    "from sklearn.datasets import fetch_20newsgroups\n",
    "\n",
    "# SK-learn libraries for feature extraction from text.\n",
    "from sklearn.feature_extraction.text import *"
   ]
  },
  {
   "cell_type": "markdown",
   "metadata": {},
   "source": [
    "Load the data, stripping out metadata so that we learn classifiers that only use textual features. By default, newsgroups data is split into train and test sets. We further split the test so we have a dev set. Note that we specify 4 categories to use for this project. If we remove the categories argument from the fetch function, you'll get all 20 categories."
   ]
  },
  {
   "cell_type": "code",
   "execution_count": 2,
   "metadata": {},
   "outputs": [
    {
     "name": "stdout",
     "output_type": "stream",
     "text": [
      "training label shape: (2034,)\n",
      "test label shape: (677,)\n",
      "dev label shape: (676,)\n",
      "labels names: ['alt.atheism', 'comp.graphics', 'sci.space', 'talk.religion.misc']\n"
     ]
    }
   ],
   "source": [
    "categories = ['alt.atheism', 'talk.religion.misc', 'comp.graphics', 'sci.space']\n",
    "newsgroups_train = fetch_20newsgroups(subset='train',\n",
    "                                      remove=('headers', 'footers', 'quotes'),\n",
    "                                      categories=categories)\n",
    "newsgroups_test = fetch_20newsgroups(subset='test',\n",
    "                                     remove=('headers', 'footers', 'quotes'),\n",
    "                                     categories=categories)\n",
    "\n",
    "num_test = len(newsgroups_test.target)\n",
    "test_data, test_labels = newsgroups_test.data[(num_test//2):], newsgroups_test.target[(num_test//2):]\n",
    "dev_data, dev_labels = newsgroups_test.data[:num_test//2], newsgroups_test.target[:num_test//2]\n",
    "train_data, train_labels = newsgroups_train.data, newsgroups_train.target\n",
    "\n",
    "print ('training label shape:', train_labels.shape)\n",
    "print ('test label shape:', test_labels.shape)\n",
    "print ('dev label shape:', dev_labels.shape)\n",
    "print ('labels names:', newsgroups_train.target_names)"
   ]
  },
  {
   "cell_type": "markdown",
   "metadata": {},
   "source": [
    "### (1) For each of the first 5 training examples, print the text of the message along with the label."
   ]
  },
  {
   "cell_type": "code",
   "execution_count": 3,
   "metadata": {},
   "outputs": [
    {
     "name": "stdout",
     "output_type": "stream",
     "text": [
      "The label for this message is talk.religion.misc\n",
      " \n",
      "Hi,\n",
      "\n",
      "I've noticed that if you only save a model (with all your mapping planes\n",
      "positioned carefully) to a .3DS file that when you reload it after restarting\n",
      "3DS, they are given a default position and orientation.  But if you save\n",
      "to a .PRJ file their positions/orientation are preserved.  Does anyone\n",
      "know why this information is not stored in the .3DS file?  Nothing is\n",
      "explicitly said in the manual about saving texture rules in the .PRJ file. \n",
      "I'd like to be able to read the texture rule information, does anyone have \n",
      "the format for the .PRJ file?\n",
      "\n",
      "Is the .CEL file format available from somewhere?\n",
      "\n",
      "Rych\n",
      "--------------------------------------\n",
      "The label for this message is sci.space\n",
      " \n",
      "\n",
      "\n",
      "Seems to be, barring evidence to the contrary, that Koresh was simply\n",
      "another deranged fanatic who thought it neccessary to take a whole bunch of\n",
      "folks with him, children and all, to satisfy his delusional mania. Jim\n",
      "Jones, circa 1993.\n",
      "\n",
      "\n",
      "Nope - fruitcakes like Koresh have been demonstrating such evil corruption\n",
      "for centuries.\n",
      "--------------------------------------\n",
      "The label for this message is comp.graphics\n",
      " \n",
      "\n",
      " >In article <1993Apr19.020359.26996@sq.sq.com>, msb@sq.sq.com (Mark Brader) \n",
      "\n",
      "MB>                                                             So the\n",
      "MB> 1970 figure seems unlikely to actually be anything but a perijove.\n",
      "\n",
      "JG>Sorry, _perijoves_...I'm not used to talking this language.\n",
      "\n",
      "Couldn't we just say periapsis or apoapsis?\n",
      "\n",
      " \n",
      "--------------------------------------\n",
      "The label for this message is alt.atheism\n",
      " \n",
      "I have a request for those who would like to see Charley Wingate\n",
      "respond to the \"Charley Challenges\" (and judging from my e-mail, there\n",
      "appear to be quite a few of you.)  \n",
      "\n",
      "It is clear that Mr. Wingate intends to continue to post tangential or\n",
      "unrelated articles while ingoring the Challenges themselves.  Between\n",
      "the last two re-postings of the Challenges, I noted perhaps a dozen or\n",
      "more posts by Mr. Wingate, none of which answered a single Challenge.  \n",
      "\n",
      "It seems unmistakable to me that Mr. Wingate hopes that the questions\n",
      "will just go away, and he is doing his level best to change the\n",
      "subject.  Given that this seems a rather common net.theist tactic, I\n",
      "would like to suggest that we impress upon him our desire for answers,\n",
      "in the following manner:\n",
      "\n",
      "1. Ignore any future articles by Mr. Wingate that do not address the\n",
      "Challenges, until he answers them or explictly announces that he\n",
      "refuses to do so.\n",
      "\n",
      "--or--\n",
      "\n",
      "2. If you must respond to one of his articles, include within it\n",
      "something similar to the following:\n",
      "\n",
      "    \"Please answer the questions posed to you in the Charley Challenges.\"\n",
      "\n",
      "Really, I'm not looking to humiliate anyone here, I just want some\n",
      "honest answers.  You wouldn't think that honesty would be too much to\n",
      "ask from a devout Christian, would you?  \n",
      "\n",
      "Nevermind, that was a rhetorical question.\n",
      "--------------------------------------\n",
      "The label for this message is comp.graphics\n",
      " \n",
      "AW&ST  had a brief blurb on a Manned Lunar Exploration confernce\n",
      "May 7th  at Crystal City Virginia, under the auspices of AIAA.\n",
      "\n",
      "Does anyone know more about this?  How much, to attend????\n",
      "\n",
      "Anyone want to go?\n",
      "--------------------------------------\n"
     ]
    }
   ],
   "source": [
    "def P1(num_examples=5):\n",
    "    \"\"\"This module prints the specified number of messages and their labels\n",
    "    with a default of 5 messages.\n",
    "    \"\"\"\n",
    "    \n",
    "    for i in range(num_examples):\n",
    "        print(\"The label for this message is {}\".format(categories[train_labels[i]]))\n",
    "        print(\" \")\n",
    "        print(train_data[i])\n",
    "        print(\"--------------------------------------\")\n",
    "        \n",
    "P1(5)"
   ]
  },
  {
   "cell_type": "markdown",
   "metadata": {},
   "source": [
    "### (2) Use CountVectorizer to turn the raw training text into feature vectors. I will use the fit_transform function, which makes 2 passes through the data: first it computes the vocabulary (\"fit\"), second it converts the raw text into feature vectors using the vocabulary (\"transform\").\n",
    "\n",
    "The vectorizer has a lot of options. Write code to answer these questions:\n",
    "\n",
    "a. The output of the transform (also of fit_transform) is a sparse matrix: http://docs.scipy.org/doc/scipy-0.14.0/reference/generated/scipy.sparse.csr_matrix.html. What is the size of the vocabulary? What is the average number of non-zero features per example? What fraction of the entries in the matrix are non-zero? \n",
    "\n",
    "b. What are the 0th and last feature strings (in alphabetical order)? Hint: use the vectorizer's get_feature_names function.\n",
    "\n",
    "c. Specify your own vocabulary with 4 words: [\"atheism\", \"graphics\", \"space\", \"religion\"]. Confirm the training vectors are appropriately shaped. Now what's the average number of non-zero features per example?\n",
    "\n",
    "d. Instead of extracting unigram word features, use \"analyzer\" and \"ngram_range\" to extract bigram and trigram character features. What size vocabulary does this yield?\n",
    "\n",
    "e. Use the \"min_df\" argument to prune words that appear in fewer than 10 documents. What size vocabulary does this yield?\n",
    "\n",
    "f. Using the standard CountVectorizer, what fraction of the words in the dev data are missing from the vocabulary? "
   ]
  },
  {
   "cell_type": "code",
   "execution_count": 4,
   "metadata": {},
   "outputs": [
    {
     "name": "stdout",
     "output_type": "stream",
     "text": [
      "a.\n",
      "Size of Vocab: 26879\n",
      "Average # of Non-Zero features per example: 96.70599803343165\n",
      "Fraction of entries in matrix that are non-zero: 0.0035978272269590263 \n",
      "\n",
      "b.\n",
      "0th feature in alphabetical order: 00\n",
      "Last feature in alphabetical order: zyxel\n",
      "\n",
      "c.\n",
      "Shape (2034, 4)\n",
      "Average # non-zero features per example: 0.26843657817109146\n",
      "\n",
      "d.\n",
      "Vocab size: 35478\n",
      "\n",
      "e.\n",
      "Vocab size appearing in more than 10 documents: 3064\n",
      "\n",
      "f.\n",
      "Training set has 26879 features whereas dev set has 16246 features\n",
      "Unique vocab in dev data but not in training data is 4027\n",
      "Therefore, there is a 24.79% difference from dev data missing from the training vocabulary\n"
     ]
    }
   ],
   "source": [
    "def P2():\n",
    "    print('a.')\n",
    "    a = CountVectorizer()\n",
    "    a_feat = a.fit_transform(train_data)\n",
    "    print('Size of Vocab: {}'.format(a_feat.shape[1]))\n",
    "    print('Average # of Non-Zero features per example: {}'.format((a_feat.nnz)/(a_feat.shape[0])))\n",
    "    print('Fraction of entries in matrix that are non-zero: {} '.format(a_feat.nnz/(a_feat.shape[0] * a_feat.shape[1])))\n",
    "    \n",
    "    print('\\nb.')\n",
    "    print('0th feature in alphabetical order: {}'.format(a.get_feature_names()[0]))\n",
    "    print('Last feature in alphabetical order: {}'.format(a.get_feature_names()[-1]))\n",
    "    \n",
    "    print('\\nc.')\n",
    "    c = CountVectorizer(vocabulary=[\"atheism\",\"graphics\",\"space\",\"religion\"])\n",
    "    c_feat = c.fit_transform(train_data)\n",
    "    print('Shape {}'.format(c_feat.shape))\n",
    "    print('Average # non-zero features per example: {}'.format(c_feat.nnz/c_feat.shape[0]))\n",
    "    \n",
    "    print('\\nd.')\n",
    "    d = CountVectorizer(ngram_range= (2,3), analyzer='char')\n",
    "    d_feat = d.fit_transform(train_data)\n",
    "    print('Vocab size: {}'.format(d_feat.shape[1]))\n",
    "    \n",
    "    print('\\ne.')\n",
    "    e = CountVectorizer(min_df=10)\n",
    "    e_feat = e.fit_transform(train_data)\n",
    "    print('Vocab size appearing in more than 10 documents: {}'.format(e_feat.shape[1]))\n",
    "    \n",
    "    print('\\nf.')\n",
    "    f = CountVectorizer()\n",
    "    f_dev_feat = f.fit_transform(dev_data)\n",
    "    train_voc = a.get_feature_names()\n",
    "    dev_voc = f.get_feature_names()\n",
    "    print('Training set has {} features whereas dev set has {} features'.format(len(train_voc), len(dev_voc)))\n",
    "    dev_unique = np.setdiff1d(dev_voc, train_voc).shape[0]\n",
    "    print('Unique vocab in dev data but not in training data is {}'.format(dev_unique))\n",
    "    print('Therefore, there is a {:.2f}% difference from dev data missing from the training vocabulary'.format((dev_unique/len(dev_voc))*100))\n",
    "    \n",
    "P2()"
   ]
  },
  {
   "cell_type": "markdown",
   "metadata": {},
   "source": [
    "### (3) Use the default CountVectorizer options and report the f1 score (use metrics.f1_score) for a k nearest neighbors classifier; find the optimal value for k. Also fit a Multinomial Naive Bayes model and find the optimal value for alpha. Finally, fit a logistic regression model and find the optimal value for the regularization strength C using l2 regularization. A few questions:\n",
    "\n",
    "a. Why doesn't nearest neighbors work well for this problem?\n",
    "\n",
    "b. Any ideas why logistic regression doesn't work as well as Naive Bayes?\n",
    "\n",
    "c. Logistic regression estimates a weight vector for each class, which you can access with the coef\\_ attribute. Output the sum of the squared weight values for each class for each setting of the C parameter. Briefly explain the relationship between the sum and the value of C."
   ]
  },
  {
   "cell_type": "code",
   "execution_count": 5,
   "metadata": {},
   "outputs": [
    {
     "name": "stdout",
     "output_type": "stream",
     "text": [
      "F1 score using default KNN: 0.4230769230769231\n"
     ]
    },
    {
     "name": "stderr",
     "output_type": "stream",
     "text": [
      "C:\\Users\\Theod\\Anaconda3\\lib\\site-packages\\sklearn\\model_selection\\_split.py:2053: FutureWarning: You should specify a value for 'cv' instead of relying on the default value. The default value will change from 3 to 5 in version 0.22.\n",
      "  warnings.warn(CV_WARNING, FutureWarning)\n"
     ]
    },
    {
     "name": "stdout",
     "output_type": "stream",
     "text": [
      "Best KNN score from 0 to 100 features: 0.4444444444444444 with {'n_neighbors': 96}\n",
      "\n",
      "\n",
      "F1 score using default MulitnomialNB: 0.7810650887573964\n"
     ]
    },
    {
     "name": "stderr",
     "output_type": "stream",
     "text": [
      "C:\\Users\\Theod\\Anaconda3\\lib\\site-packages\\sklearn\\model_selection\\_split.py:2053: FutureWarning: You should specify a value for 'cv' instead of relying on the default value. The default value will change from 3 to 5 in version 0.22.\n",
      "  warnings.warn(CV_WARNING, FutureWarning)\n"
     ]
    },
    {
     "name": "stdout",
     "output_type": "stream",
     "text": [
      "Best MulitnomialNB score: 0.828416912487709 with {'alpha': 0.01}\n",
      "\n",
      "\n",
      "F1 score using default Logistic Regression: 0.6967455621301775\n"
     ]
    },
    {
     "name": "stderr",
     "output_type": "stream",
     "text": [
      "C:\\Users\\Theod\\Anaconda3\\lib\\site-packages\\sklearn\\model_selection\\_split.py:2053: FutureWarning: You should specify a value for 'cv' instead of relying on the default value. The default value will change from 3 to 5 in version 0.22.\n",
      "  warnings.warn(CV_WARNING, FutureWarning)\n"
     ]
    },
    {
     "name": "stdout",
     "output_type": "stream",
     "text": [
      "Best Logistic Regression score: 0.7463126843657817 with {'C': 1.0}\n",
      "\n",
      "\n",
      "\n",
      "Output the sum of the squared weight values for each class for each setting of the C parameter: \n",
      "\n",
      "C = 0.001 0.46474583392061836\n",
      "C = 0.01 6.794754406631711\n",
      "C = 1.0 275.1795717143728\n",
      "C = 1.5 343.07563152919323\n",
      "C = 3.0 482.79055747271946\n",
      "C = 4.5 578.7218060945434\n",
      "C = 10.0 798.8307860144705\n",
      "C = 20.0 1024.4873161904093\n",
      "C = 30.0 1171.7827721199158\n",
      "C = 100.0 1678.9792111965469\n",
      "C = 1000.0 2954.770654328501\n"
     ]
    }
   ],
   "source": [
    "def P3():\n",
    "    p3 = CountVectorizer()\n",
    "    p3_feat = p3.fit_transform(train_data)\n",
    "    p3_dev_feat = p3.transform(dev_data)\n",
    "\n",
    "    knn = KNeighborsClassifier()\n",
    "    knn.fit(p3_feat, train_labels)\n",
    "    knn_pred = knn.predict(p3_dev_feat)         \n",
    "    print ('F1 score using default KNN: {}'.format(metrics.f1_score(knn_pred, dev_labels, average='micro')))\n",
    "\n",
    "    # Optimize knn's k-value\n",
    "    n_range = {'n_neighbors': range(1,100)}\n",
    "    knn_search = GridSearchCV(estimator=knn, param_grid=n_range, scoring='f1_micro')\n",
    "    knn_search.fit(p3_feat, train_labels)\n",
    "    print('Best KNN score from 0 to 100 features: {} with {}'.format(knn_search.best_score_,knn_search.best_params_))\n",
    "\n",
    "    print ('\\n')\n",
    "    # Multinomial Naive Bayes \n",
    "    mnb = MultinomialNB()\n",
    "    mnb.fit(p3_feat, train_labels)\n",
    "    mnb_pred = mnb.predict(p3_dev_feat)\n",
    "    print ('F1 score using default MulitnomialNB: {}'.format(metrics.f1_score(mnb_pred,dev_labels, average='micro')))\n",
    "\n",
    "    # Optimize MultinomialNB alpha\n",
    "    alphas = {'alpha': [0.0001,0.001,0.01,0.1,1,10]}\n",
    "    mnb_search = GridSearchCV(estimator = mnb, param_grid=alphas, scoring='f1_micro')\n",
    "    mnb_search.fit(p3_feat, train_labels)    \n",
    "    print ('Best MulitnomialNB score: {} with {}'.format(mnb_search.best_score_, mnb_search.best_params_))\n",
    "\n",
    "    print ('\\n')\n",
    "    # Logistic regression\n",
    "    lr = LogisticRegression(penalty='l2', solver='lbfgs', multi_class='auto', max_iter=1000)\n",
    "    lr.fit(p3_feat, train_labels)\n",
    "    lr_pred = lr.predict(p3_dev_feat)\n",
    "    print ('F1 score using default Logistic Regression: {}'.format(metrics.f1_score(lr_pred, dev_labels, average='micro')))\n",
    "\n",
    "    # Optimize log regression parameters\n",
    "    lr_c = {'C': [0.001,0.01,1.0,1.5,3.0,4.5,10.0,20.0,30.0,100.0,1000.0]}\n",
    "    lr_search = GridSearchCV(estimator = lr, param_grid=lr_c, scoring='f1_micro')\n",
    "    lr_search.fit(p3_feat, train_labels)    \n",
    "    print('Best Logistic Regression score: {} with {}'.format(lr_search.best_score_,lr_search.best_params_))\n",
    "\n",
    "    # P3c. Output the sum of the squared weight values for each class for each setting of the C parameter\n",
    "    print ('\\n')\n",
    "    coefficients = []\n",
    "    c_param = [0.001,0.01,1.0,1.5,3.0,4.5,10.0,20.0,30.0,100.0,1000.0]\n",
    "    for c in c_param:\n",
    "        lr = LogisticRegression(C=c, penalty='l2', solver='lbfgs', multi_class='auto', max_iter=1000)\n",
    "        lr.fit(p3_feat,train_labels)\n",
    "        lr_pred = lr.predict(p3_dev_feat)\n",
    "        coefficients.append(lr.coef_)\n",
    "\n",
    "    print('\\nOutput the sum of the squared weight values for each class for each setting of the C parameter: \\n')\n",
    "    for i in range(len(coefficients)):\n",
    "        coef_sq = np.square(coefficients[i])\n",
    "        print ('C =', str(c_param[i]), np.sum(np.sum(coef_sq,axis=1)))\n",
    "P3()"
   ]
  },
  {
   "cell_type": "markdown",
   "metadata": {},
   "source": [
    "#### ANSWER:\n",
    "\n",
    "#### a. Why doesn't nearest neighbors work well for this problem?\n",
    "\n",
    "Nearest neighbor classifers do not work well with a large amount of features. There isn't a set amount of what defines a \"large\" amount, but the theory behind knn classifier is the distance between the nearest neighbor. Therefore the more features involved, the farther away the nearest neighbor may appear which makes it harder for the model to find the best features for prediction. \n",
    "\n",
    "#### b. Any ideas why logistic regression doesn't work as well as Naive Bayes?\n",
    "It seems like logistic regression does not work because there are more features than the training examples and therefore the logistic regression model is overfitting. Naive Bayes works better in this case since it assumes independence between features and thus does not make false correlations between features for prediction.\n",
    "\n",
    "#### c. Logistic regression estimates a weight vector for each class, which you can access with the coef_ attribute. Output the sum of the squared weight values for each class for each setting of the C parameter. Briefly explain the relationship between the sum and the value of C.\n",
    "\n",
    "The output of sum of squared weights for each class for each setting of C is listed above. As C gets larger in value, the size of the parameters of the logistic regression model increases in magnitude to adjust to the training data. Smaller values of C is associated with a smaller magnitude of errors."
   ]
  },
  {
   "cell_type": "markdown",
   "metadata": {},
   "source": [
    "### (4) Train a logistic regression model. Find the 5 features with the largest weights for each label -- 20 features in total. Create a table with 20 rows and 4 columns that shows the weight for each of these features for each of the labels. Create the table again with bigram features. Any surprising features in this table?"
   ]
  },
  {
   "cell_type": "code",
   "execution_count": 6,
   "metadata": {},
   "outputs": [
    {
     "name": "stdout",
     "output_type": "stream",
     "text": [
      "Unigram Table \n",
      "\n"
     ]
    },
    {
     "name": "stderr",
     "output_type": "stream",
     "text": [
      "C:\\Users\\Theod\\Anaconda3\\lib\\site-packages\\sklearn\\linear_model\\logistic.py:433: FutureWarning: Default solver will be changed to 'lbfgs' in 0.22. Specify a solver to silence this warning.\n",
      "  FutureWarning)\n",
      "C:\\Users\\Theod\\Anaconda3\\lib\\site-packages\\sklearn\\linear_model\\logistic.py:460: FutureWarning: Default multi_class will be changed to 'auto' in 0.22. Specify the multi_class option to silence this warning.\n",
      "  \"this warning.\", FutureWarning)\n"
     ]
    },
    {
     "name": "stdout",
     "output_type": "stream",
     "text": [
      "Feature: Weight\n",
      "b'religion' : [ 0.95354582 -0.61689943 -0.79298467 -0.06441939]\n",
      "b'bobby' : [ 0.98972142 -0.22073778 -0.34106939 -0.46354848]\n",
      "b'atheists' : [ 1.0310803  -0.09776789 -0.31899263 -0.83472376]\n",
      "b'space' : [-1.26037737 -1.31601271  2.1624432  -1.17078722]\n",
      "b'deletion' : [ 1.1248112  -0.39814768 -0.4201916  -0.39548392]\n",
      "b'3d' : [-0.35897245  1.12511083 -0.70249868 -0.37845842]\n",
      "b'file' : [-0.3347297   1.26660805 -0.80689696 -0.6266535 ]\n",
      "b'space' : [-1.26037737 -1.31601271  2.1624432  -1.17078722]\n",
      "b'graphics' : [-0.75836884  1.93675677 -1.33652085 -0.76274472]\n",
      "b'image' : [-0.58294149  1.34686696 -0.82500143 -0.46853152]\n",
      "b'launch' : [-0.4708434  -0.4655019   0.93665666 -0.33252148]\n",
      "b'graphics' : [-0.75836884  1.93675677 -1.33652085 -0.76274472]\n",
      "b'orbit' : [-0.4139613  -0.67168256  1.22504801 -0.62926859]\n",
      "b'space' : [-1.26037737 -1.31601271  2.1624432  -1.17078722]\n",
      "b'nasa' : [-0.57257011 -0.48024253  1.01144521 -0.46783605]\n",
      "b'could' : [ 0.22766947 -0.13027734  0.34356266 -0.92994063]\n",
      "b'blood' : [-0.53313683 -0.10667586 -0.31567905  1.0547477 ]\n",
      "b'christian' : [-0.6076894  -0.41878603 -0.27073588  1.11746754]\n",
      "b'christians' : [-0.7402528  -0.40911605 -0.52511924  1.14788693]\n",
      "b'space' : [-1.26037737 -1.31601271  2.1624432  -1.17078722]\n",
      "\n",
      "Bigram Table\n",
      "\n",
      "Feature: Weight\n",
      "b'look up' : [ 0.6338002  -0.23829762 -0.19512822 -0.17053722]\n",
      "b'was just' : [ 0.67763432 -0.19292564 -0.19793868 -0.30199348]\n",
      "b'cheers kent' : [ 0.64913995 -0.88237599 -0.82192543  0.60147746]\n",
      "b'looking for' : [-0.75561061  1.31955769 -0.6136302  -0.69985416]\n",
      "b'claim that' : [ 0.77166906 -0.25764152 -0.35208944 -0.20063971]\n",
      "b'out there' : [-0.32429232  0.89636948 -0.57789287 -0.33286855]\n",
      "b'is there' : [-0.42849036  0.9126024  -0.56872997 -0.34152023]\n",
      "b'in advance' : [-0.54499545  0.97223713 -0.5310067  -0.50732397]\n",
      "b'comp graphics' : [-0.37981623  1.03728621 -0.47082342 -0.39663202]\n",
      "b'looking for' : [-0.75561061  1.31955769 -0.6136302  -0.69985416]\n",
      "b'and such' : [-0.24230005 -0.3996516   0.68813253 -0.25690469]\n",
      "b'the space' : [-0.31409017 -0.64579463  1.03013127 -0.32453502]\n",
      "b'sci space' : [-0.31771308 -0.38851289  0.73885089 -0.27481987]\n",
      "b'cheers kent' : [ 0.64913995 -0.88237599 -0.82192543  0.60147746]\n",
      "b'the moon' : [-0.40484571 -0.57647916  0.9517515  -0.24060516]\n",
      "b'the fbi' : [-0.16669538 -0.26127122 -0.35924377  0.65379892]\n",
      "b'looking for' : [-0.75561061  1.31955769 -0.6136302  -0.69985416]\n",
      "b'compuserve com' : [-0.1326391  -0.2118195  -0.20087788  0.70150588]\n",
      "b'ignorance is' : [-0.22788435 -0.25314046 -0.2113486   0.74567279]\n",
      "b'such lunacy' : [-0.14908556 -0.21633409 -0.19066721  0.70659276]\n"
     ]
    }
   ],
   "source": [
    "def P4():\n",
    "    \n",
    "    def p4model(model):\n",
    "        \"\"\"Runs basic Logistic Regression with the best C value from P3.\"\"\"\n",
    "        # Initialize given model with features, dev features, and feature names\n",
    "        p4 = model\n",
    "        p4_feat = p4.fit_transform(train_data)\n",
    "        p4_feat_names = p4.get_feature_names()\n",
    "\n",
    "        # best C value from P3 is C = 1.0\n",
    "        p4lr = LogisticRegression(C=1.0) \n",
    "\n",
    "        # fit the model to the features.\n",
    "        p4lr.fit(p4_feat, train_labels)\n",
    "\n",
    "        # Getting the names/values based off p4lr\n",
    "        indexes = np.argpartition(np.absolute(p4lr.coef_), -5)[:,-5:].flatten()\n",
    "        names = [p4_feat_names[index].encode('utf-8') for index in indexes]\n",
    "        weight = np.transpose(np.take(p4lr.coef_, indexes, axis=1))\n",
    "\n",
    "        print('Feature: Weight')\n",
    "        for i in range(len(names)):\n",
    "            print('{} : {}'.format(names[i], weight[i]))\n",
    "    print('Unigram Table \\n')    \n",
    "    p4model(CountVectorizer())\n",
    "    print('\\nBigram Table\\n')\n",
    "    p4model(CountVectorizer(ngram_range=(2, 2), analyzer='word'))\n",
    "\n",
    "P4()"
   ]
  },
  {
   "cell_type": "markdown",
   "metadata": {},
   "source": [
    "ANSWER: I was surprised that the unigram features do not also appear in the bigram features with the exception of 'space' and 'graphics' although the bigram features could easily be associated with more than one of the unigram features. Bigram features also had 'cheers kent' and 'looking for' appear twice, yet neither of these words appeared in the unigram weights."
   ]
  },
  {
   "cell_type": "markdown",
   "metadata": {},
   "source": [
    "### (5) Try to improve the logistic regression classifier by passing a custom preprocessor to CountVectorizer. The preprocessing function runs on the raw text, before it is split into words by the tokenizer. Your preprocessor should try to normalize the input in various ways to improve generalization. For example, try lowercasing everything, replacing sequences of numbers with a single token, removing various other non-letter characters, and shortening long words. If you're not already familiar with regular expressions for manipulating strings, see https://docs.python.org/2/library/re.html, and re.sub() in particular. With your new preprocessor, how much did you reduce the size of the dictionary?"
   ]
  },
  {
   "cell_type": "code",
   "execution_count": 7,
   "metadata": {},
   "outputs": [
    {
     "name": "stdout",
     "output_type": "stream",
     "text": [
      "Empty preprocessor\n",
      "Shape: (2034, 33291)\n",
      "F1 score: 0.6870608946268841\n",
      "\n",
      "Improved preprocessor\n",
      "Shape: (2034, 21917)\n",
      "F1 score: 0.7029983761155641\n",
      "\n",
      "My new preprocessor reduced the size of the vocabulary by 11374 words and increased the F1 score\n"
     ]
    }
   ],
   "source": [
    "def empty_preprocessor(s):\n",
    "    return s\n",
    "\n",
    "def p5model(model):\n",
    "    \"\"\"Runs a basic logistic regression model.\"\"\"\n",
    "    p5 = model\n",
    "    p5_feat = model.fit_transform(train_data)\n",
    "    p5_dev_feat = p5.transform(dev_data)\n",
    "    p5lr = LogisticRegression()\n",
    "    p5lr.fit(p5_feat, train_labels)\n",
    "    p5_pred = p5lr.predict(p5_dev_feat)\n",
    "    p5_f1 = metrics.f1_score(p5_pred, dev_labels, average='macro')\n",
    "    print('Shape: {}'.format(p5_feat.shape))\n",
    "    print('F1 score: {}'.format(p5_f1))\n",
    "    return p5_feat.shape[1]\n",
    "\n",
    "def better_preprocessor(s):\n",
    "    \"\"\" Transforms the strings that are inputted.\"\"\"\n",
    "    # Turn everything to lowercase\n",
    "    s = s.lower()\n",
    "    \n",
    "    # replace sequence of numbers\n",
    "    s = re.sub(r'\\d+', ' ', s) \n",
    "    \n",
    "    # remove anything that is not a letter\n",
    "    s = re.sub(\"[^a-zA-Z]\", \" \", s)\n",
    "    \n",
    "    # remove words of up to 3 characters\n",
    "    s = re.sub(r'\\b\\w{,3}\\b', '', s)\n",
    "    \n",
    "    # remove words greater than 15 characters\n",
    "    s = re.sub(r'\\b\\w{15,}\\b', '', s)\n",
    "\n",
    "    return s\n",
    "\n",
    "def P5():\n",
    "    print('Empty preprocessor')\n",
    "    a = p5model(CountVectorizer(preprocessor=empty_preprocessor))\n",
    "    \n",
    "    print('\\nImproved preprocessor')\n",
    "    b = p5model(CountVectorizer(preprocessor=better_preprocessor))\n",
    "    \n",
    "    diff = a-b\n",
    "    print('\\nMy new preprocessor reduced the size of the vocabulary by {} words and increased the F1 score'.format(diff))\n",
    "P5()"
   ]
  },
  {
   "cell_type": "markdown",
   "metadata": {},
   "source": [
    "### (6) The idea of regularization is to avoid learning very large weights (which are likely to fit the training data, but not generalize well) by adding a penalty to the total size of the learned weights. That is, logistic regression seeks the set of weights that minimizes errors in the training data AND has a small size. The default regularization, L2, computes this size as the sum of the squared weights (see P3, above). L1 regularization computes this size as the sum of the absolute values of the weights. The result is that whereas L2 regularization makes all the weights relatively small, L1 regularization drives lots of the weights to 0, effectively removing unimportant features.\n",
    "\n",
    "Train a logistic regression model using a \"l1\" penalty. Output the number of learned weights that are not equal to zero. How does this compare to the number of non-zero weights you get with \"l2\"? Now, reduce the size of the vocabulary by keeping only those features that have at least one non-zero weight and retrain a model using \"l2\".\n",
    "\n",
    "Make a plot showing accuracy of the re-trained model vs. the vocabulary size you get when pruning unused features by adjusting the C parameter.\n",
    "\n",
    "Note: The gradient descent code that trains the logistic regression model sometimes has trouble converging with extreme settings of the C parameter. Relax the convergence criteria by setting tol=.01 (the default is .0001)."
   ]
  },
  {
   "cell_type": "code",
   "execution_count": 8,
   "metadata": {},
   "outputs": [
    {
     "name": "stdout",
     "output_type": "stream",
     "text": [
      "\n",
      "L1 Model\n",
      "Nonzero weights: 1815\n",
      "\n",
      "L2 Model\n",
      "Nonzero weights: 107516\n"
     ]
    },
    {
     "name": "stderr",
     "output_type": "stream",
     "text": [
      "C:\\Users\\Theod\\Anaconda3\\lib\\site-packages\\sklearn\\svm\\base.py:922: ConvergenceWarning: Liblinear failed to converge, increase the number of iterations.\n",
      "  \"the number of iterations.\", ConvergenceWarning)\n"
     ]
    },
    {
     "data": {
      "image/png": "[encoded data removed]",
      "text/plain": [
       "<Figure size 432x288 with 1 Axes>"
      ]
     },
     "metadata": {
      "needs_background": "light"
     },
     "output_type": "display_data"
    }
   ],
   "source": [
    "def P6():\n",
    "    # Keep this random seed here to make comparison easier.\n",
    "    np.random.seed(0)\n",
    "    \n",
    "    def p6model(model=CountVectorizer(), lr=LogisticRegression()):\n",
    "        \"\"\"Model with basic logistic regression.\"\"\"\n",
    "        p6 = model\n",
    "        p6_feat = p6.fit_transform(train_data)\n",
    "        p6_dev_feat = p6.transform(dev_data)\n",
    "        p6_feat_name = p6.get_feature_names()\n",
    "        p6lr = lr\n",
    "        p6lr.fit(p6_feat, train_labels)\n",
    "        weight_nonzero = np.argwhere(p6lr.coef_!=0)\n",
    "        print('Nonzero weights: {}'.format(weight_nonzero.shape[0]))\n",
    "    \n",
    "    print('\\nL1 Model')\n",
    "    p6model(lr=LogisticRegression(penalty='l1', tol=0.01))\n",
    "    print('\\nL2 Model')\n",
    "    p6model(lr=LogisticRegression(penalty='l2', tol=0.01))\n",
    "\n",
    "    def p6model2(model=CountVectorizer(), c=0.5):\n",
    "        \"\"\"Model with basic logistic regression with a set c value.\"\"\"\n",
    "        # Original model with l1\n",
    "        p6 = model\n",
    "        p6_feat = p6.fit_transform(train_data)\n",
    "        p6_dev_feat = p6.transform(dev_data)\n",
    "        p6_feat_name = p6.get_feature_names()\n",
    "        p6lr = LogisticRegression(penalty='l1', C=c, tol=0.01)\n",
    "        p6lr.fit(p6_feat, train_labels)\n",
    "\n",
    "        # remove nonzeros weights\n",
    "        weight_nonzero = np.argwhere(p6lr.coef_!=0)\n",
    "\n",
    "\n",
    "        # adding new vocab for second model\n",
    "        vocab_nonzero = np.unique(weight_nonzero[:,-1])\n",
    "        new_voc = []\n",
    "        for i in vocab_nonzero:\n",
    "            new_voc.append(p6_feat_name[i])\n",
    "\n",
    "        # second l2 model trained better\n",
    "        p62 = CountVectorizer(vocabulary=new_voc)\n",
    "        p6_feat2 = p62.transform(train_data)\n",
    "        p6_dev_feat2 = p62.transform(dev_data)\n",
    "        p6_feat_name2 = p62.get_feature_names()\n",
    "        p6lr2 = LogisticRegression(penalty='l2', C=c, tol=0.01, max_iter=200)\n",
    "        p6lr2.fit(p6_feat2, train_labels)\n",
    "        p6_pred2 = p6lr2.predict(p6_dev_feat2)\n",
    "\n",
    "        # add vocab size with nonzero to list\n",
    "        vocab_size.append(p6_feat2.shape[1])\n",
    "\n",
    "        # calculate and appends f1_scores\n",
    "        f1_scores.append(metrics.f1_score(p6_pred2, dev_labels, average='macro'))\n",
    "\n",
    "    # Initialize list for function\n",
    "    vocab_size = []\n",
    "    f1_scores = []\n",
    "    cValues = [0.001, 0.01, 0.1, 0.25, 0.5, 0.75, 1.0, 1.5, 2.5, 5.0, 10.0]\n",
    "\n",
    "    for c in cValues:\n",
    "        p6model2(c=c)\n",
    "\n",
    "    plt.plot(vocab_size, f1_scores, 'o')\n",
    "    plt.title('Vocab Size vs. F1 Score')  \n",
    "    plt.ylabel('F1 Score') \n",
    "    plt.xlabel('Vocab Size') \n",
    "    plt.show()\n",
    "P6()"
   ]
  },
  {
   "cell_type": "markdown",
   "metadata": {},
   "source": [
    "### (7) Use the TfidfVectorizer -- how is this different from the CountVectorizer? Train a logistic regression model with C=100.\n",
    "\n",
    "Make predictions on the dev data and show the top 3 documents where the ratio R is largest, where R is:\n",
    "\n",
    "maximum predicted probability / predicted probability of the correct label\n",
    "\n",
    "What kinds of mistakes is the model making? Suggest a way to address one particular issue that you see."
   ]
  },
  {
   "cell_type": "code",
   "execution_count": 9,
   "metadata": {},
   "outputs": [
    {
     "name": "stdout",
     "output_type": "stream",
     "text": [
      "F1 Score: 0.7473913101645842\n",
      "------------------\n",
      "\n",
      "\n",
      "The 24 children were, of course, killed by a lone gunman in a second story\n",
      "window, who fired eight bullets in the space of two seconds...\n",
      "\n",
      "\n",
      "Predicted: talk.religion.misc \n",
      "Actual: alt.atheism\n",
      "------------------\n",
      "\n",
      "Can anyone provide me a ftp site where I can obtain a online version\n",
      "of the Book of Mormon. Please email the internet address if possible.\n",
      "\n",
      "Predicted: comp.graphics \n",
      "Actual: talk.religion.misc\n",
      "------------------\n",
      "\n",
      "I am pleased to announce that a *revised version* of _The Easy-to-Read Book\n",
      "of Mormon_ (former title: _Mormon's Book_) by Lynn Matthews Anderson is now\n",
      "available through anonymous ftp (see information below). In addition to the\n",
      "change in title, the revised ETR BOM has been shortened by several pages\n",
      "(eliminating many extraneous \"that's\" and \"of's\"), and many (minor) errors\n",
      "have been corrected. This release includes a simplified Joseph Smith Story,\n",
      "testimonies of the three and eight witnesses, and a \"Words-to-Know\"\n",
      "glossary.\n",
      "\n",
      "As with the previous announcement, readers are reminded that this is a\n",
      "not-for-profit endeavor. This is a copyrighted work, but people are welcome\n",
      "to make *verbatim* copies for personal use. People can recuperate the\n",
      "actual costs of printing (paper, copy center charges), but may not charge\n",
      "anything for their time in making copies, or in any way realize a profit\n",
      "from the use of this book. See the permissions notice in the book itself\n",
      "for the precise terms.\n",
      "\n",
      "Negotiations are currently underway with a Mormon publisher vis-a-vis the\n",
      "printing and distribution of bound books. (Sorry, I'm out of the wire-bound\n",
      "\"first editions.\") I will make another announcement about the availability\n",
      "of printed copies once everything has been worked out.\n",
      "\n",
      "FTP information: connect via anonymous ftp to carnot.itc.cmu.edu, then \"cd\n",
      "pub\" (you won't see anything at all until you do).\n",
      "\n",
      "\"The Easy-to-Read Book of Mormon\" is currently available in postscript and\n",
      "RTF (rich text format). (ASCII, LaTeX, and other versions can be made\n",
      "available; contact dba@andrew.cmu.edu for details.) You should be able to\n",
      "print the postscript file on any postscript printer (such as an Apple\n",
      "Laserwriter); let dba know if you have any difficulties. (The postscript in\n",
      "the last release had problems on some printers; this time it should work\n",
      "better.) RTF is a standard document interchange format that can be read in\n",
      "by a number of word processors, including Microsoft Word for both the\n",
      "Macintosh and Windows. If you don't have a postscript printer, you may be\n",
      "able to use the RTF file to print out a copy of the book.\n",
      "\n",
      "-r--r--r--  1 dba                   1984742 Apr 27 13:12 etrbom.ps\n",
      "-r--r--r--  1 dba                   1209071 Apr 27 13:13 etrbom.rtf\n",
      "\n",
      "For more information about how this project came about, please refer to my\n",
      "article in the current issue of _Sunstone_, entitled \"Delighting in\n",
      "Plainness: Issues Surrounding a Simple Modern English Book of Mormon.\"\n",
      "\n",
      "Send all inquiries and comments to:\n",
      "\n",
      "    Lynn Matthews Anderson\n",
      "    5806 Hampton Street\n",
      "    Pittsburgh, PA 15206\n",
      "\n",
      "Predicted: comp.graphics \n",
      "Actual: talk.religion.misc\n"
     ]
    }
   ],
   "source": [
    "def P7():\n",
    "    \"\"\" Uses TfidfVectorizer to show difference from CountVectorizer.\"\"\"\n",
    "    p7 = TfidfVectorizer()\n",
    "    p7_feat = p7.fit_transform(train_data)\n",
    "    p7_dev_feat = p7.transform(dev_data)\n",
    "    p7lr = LogisticRegression(C=100)\n",
    "    p7lr.fit(p7_feat, train_labels)\n",
    "    p7_pred = p7lr.predict(p7_dev_feat)\n",
    "    print ('F1 Score: {}'.format(metrics.f1_score(p7_pred, dev_labels, average='macro')))\n",
    "\n",
    "    # correct predict proba\n",
    "    p7_pred_proba = p7lr.predict_proba(p7_dev_feat)\n",
    "    ans = []\n",
    "    for i in range(len(p7_pred_proba)):\n",
    "        ans.append(p7_pred_proba[i, dev_labels[i]])\n",
    "\n",
    "    # max predict proba\n",
    "    p7_max_pred_proba = np.amax(p7_pred_proba, axis=1)\n",
    "\n",
    "    # r_ratio\n",
    "    r_ratio = p7_max_pred_proba / ans\n",
    "\n",
    "    top_3_index = np.argpartition(r_ratio, -3)[-3:]\n",
    "    top_3 = np.take(r_ratio, top_3_index)\n",
    "\n",
    "    for i in top_3_index:\n",
    "        print('------------------')\n",
    "        print('\\n{}\\n\\nPredicted: {} \\nActual: {}'.format(dev_data[i],newsgroups_train.target_names[p7_pred[i]], newsgroups_train.target_names[dev_labels[i]]))\n",
    "\n",
    "P7()"
   ]
  },
  {
   "cell_type": "markdown",
   "metadata": {},
   "source": [
    "ANSWER: The model predicted computer graphics when computers were mentioned despite the fact that computers were a medium for the actual message which appeared to be religion. Therefore, we can improve the model by adding stopwords for computer terms such as 'e-mail' but retain computer graphic specific words such as 'images'"
   ]
  }
 ],
 "metadata": {
  "kernelspec": {
   "display_name": "Python 3",
   "language": "python",
   "name": "python3"
  },
  "language_info": {
   "codemirror_mode": {
    "name": "ipython",
    "version": 3
   },
   "file_extension": ".py",
   "mimetype": "text/x-python",
   "name": "python",
   "nbconvert_exporter": "python",
   "pygments_lexer": "ipython3",
   "version": "3.7.1"
  }
 },
 "nbformat": 4,
 "nbformat_minor": 1
}
